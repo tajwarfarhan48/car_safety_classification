{
 "cells": [
  {
   "attachments": {},
   "cell_type": "markdown",
   "id": "665ffba7",
   "metadata": {},
   "source": [
    "### Importing modules"
   ]
  },
  {
   "cell_type": "code",
   "execution_count": 1,
   "id": "ca85b0f4",
   "metadata": {},
   "outputs": [],
   "source": [
    "import numpy as np\n",
    "import matplotlib.pyplot as plt\n",
    "import pandas as pd\n",
    "\n",
    "from sklearn.feature_selection import SelectKBest, f_regression, mutual_info_regression, chi2\n",
    "\n",
    "from sklearn.model_selection import train_test_split\n",
    "from sklearn.preprocessing import StandardScaler, OrdinalEncoder, LabelEncoder\n",
    "from sklearn.pipeline import Pipeline\n",
    "from sklearn.compose import make_column_transformer\n",
    "\n",
    "from sklearn.neighbors import KNeighborsClassifier\n",
    "from sklearn.tree import DecisionTreeClassifier\n",
    "from sklearn.metrics import confusion_matrix, classification_report, accuracy_score"
   ]
  },
  {
   "attachments": {},
   "cell_type": "markdown",
   "id": "e921ed5a",
   "metadata": {},
   "source": [
    "### Checking the data"
   ]
  },
  {
   "cell_type": "code",
   "execution_count": 2,
   "id": "2d197af3",
   "metadata": {},
   "outputs": [
    {
     "data": {
      "text/html": [
       "<div>\n",
       "<style scoped>\n",
       "    .dataframe tbody tr th:only-of-type {\n",
       "        vertical-align: middle;\n",
       "    }\n",
       "\n",
       "    .dataframe tbody tr th {\n",
       "        vertical-align: top;\n",
       "    }\n",
       "\n",
       "    .dataframe thead th {\n",
       "        text-align: right;\n",
       "    }\n",
       "</style>\n",
       "<table border=\"1\" class=\"dataframe\">\n",
       "  <thead>\n",
       "    <tr style=\"text-align: right;\">\n",
       "      <th></th>\n",
       "      <th>buying_price</th>\n",
       "      <th>maintenance_cost</th>\n",
       "      <th>num_doors</th>\n",
       "      <th>capacity</th>\n",
       "      <th>lug_boot</th>\n",
       "      <th>safety</th>\n",
       "      <th>acceptability</th>\n",
       "    </tr>\n",
       "  </thead>\n",
       "  <tbody>\n",
       "    <tr>\n",
       "      <th>0</th>\n",
       "      <td>vhigh</td>\n",
       "      <td>vhigh</td>\n",
       "      <td>2</td>\n",
       "      <td>2</td>\n",
       "      <td>small</td>\n",
       "      <td>low</td>\n",
       "      <td>unacc</td>\n",
       "    </tr>\n",
       "    <tr>\n",
       "      <th>1</th>\n",
       "      <td>vhigh</td>\n",
       "      <td>vhigh</td>\n",
       "      <td>2</td>\n",
       "      <td>2</td>\n",
       "      <td>small</td>\n",
       "      <td>med</td>\n",
       "      <td>unacc</td>\n",
       "    </tr>\n",
       "    <tr>\n",
       "      <th>2</th>\n",
       "      <td>vhigh</td>\n",
       "      <td>vhigh</td>\n",
       "      <td>2</td>\n",
       "      <td>2</td>\n",
       "      <td>small</td>\n",
       "      <td>high</td>\n",
       "      <td>unacc</td>\n",
       "    </tr>\n",
       "    <tr>\n",
       "      <th>3</th>\n",
       "      <td>vhigh</td>\n",
       "      <td>vhigh</td>\n",
       "      <td>2</td>\n",
       "      <td>2</td>\n",
       "      <td>med</td>\n",
       "      <td>low</td>\n",
       "      <td>unacc</td>\n",
       "    </tr>\n",
       "    <tr>\n",
       "      <th>4</th>\n",
       "      <td>vhigh</td>\n",
       "      <td>vhigh</td>\n",
       "      <td>2</td>\n",
       "      <td>2</td>\n",
       "      <td>med</td>\n",
       "      <td>med</td>\n",
       "      <td>unacc</td>\n",
       "    </tr>\n",
       "  </tbody>\n",
       "</table>\n",
       "</div>"
      ],
      "text/plain": [
       "  buying_price maintenance_cost num_doors capacity lug_boot safety  \\\n",
       "0        vhigh            vhigh         2        2    small    low   \n",
       "1        vhigh            vhigh         2        2    small    med   \n",
       "2        vhigh            vhigh         2        2    small   high   \n",
       "3        vhigh            vhigh         2        2      med    low   \n",
       "4        vhigh            vhigh         2        2      med    med   \n",
       "\n",
       "  acceptability  \n",
       "0         unacc  \n",
       "1         unacc  \n",
       "2         unacc  \n",
       "3         unacc  \n",
       "4         unacc  "
      ]
     },
     "execution_count": 2,
     "metadata": {},
     "output_type": "execute_result"
    }
   ],
   "source": [
    "names = ['buying_price', 'maintenance_cost', 'num_doors', 'capacity', 'lug_boot', 'safety', 'acceptability']\n",
    "data = pd.read_csv('car.data', names=names)\n",
    "data.head()"
   ]
  },
  {
   "cell_type": "code",
   "execution_count": 3,
   "id": "dfddc749",
   "metadata": {},
   "outputs": [
    {
     "data": {
      "text/plain": [
       "(1728, 7)"
      ]
     },
     "execution_count": 3,
     "metadata": {},
     "output_type": "execute_result"
    }
   ],
   "source": [
    "data.shape\n"
   ]
  },
  {
   "cell_type": "code",
   "execution_count": 4,
   "id": "6ba454c2",
   "metadata": {},
   "outputs": [
    {
     "data": {
      "text/plain": [
       "2        432\n",
       "3        432\n",
       "4        432\n",
       "5more    432\n",
       "Name: num_doors, dtype: int64"
      ]
     },
     "execution_count": 4,
     "metadata": {},
     "output_type": "execute_result"
    }
   ],
   "source": [
    "data['num_doors'].value_counts()"
   ]
  },
  {
   "cell_type": "code",
   "execution_count": 5,
   "id": "8b411c18",
   "metadata": {},
   "outputs": [
    {
     "data": {
      "text/plain": [
       "2       576\n",
       "4       576\n",
       "more    576\n",
       "Name: capacity, dtype: int64"
      ]
     },
     "execution_count": 5,
     "metadata": {},
     "output_type": "execute_result"
    }
   ],
   "source": [
    "data['capacity'].value_counts()"
   ]
  },
  {
   "attachments": {},
   "cell_type": "markdown",
   "id": "c05e84b0",
   "metadata": {},
   "source": [
    "### Train-Test Split"
   ]
  },
  {
   "cell_type": "code",
   "execution_count": 6,
   "id": "6f8e09cc",
   "metadata": {},
   "outputs": [],
   "source": [
    "data_train, data_test = train_test_split(data, test_size=0.2, stratify=data['acceptability'], random_state=42)"
   ]
  },
  {
   "cell_type": "code",
   "execution_count": 7,
   "id": "39f7c3a2",
   "metadata": {},
   "outputs": [],
   "source": [
    "X_train = data_train.iloc[:, :-1]\n",
    "X_test = data_test.iloc[:, :-1]\n",
    "y_train = data_train.iloc[:, -1]\n",
    "y_test = data_test.iloc[:, -1]"
   ]
  },
  {
   "cell_type": "code",
   "execution_count": 8,
   "id": "4c462580",
   "metadata": {},
   "outputs": [
    {
     "data": {
      "text/plain": [
       "unacc    70.043415\n",
       "acc      22.214182\n",
       "good      3.979740\n",
       "vgood     3.762663\n",
       "Name: acceptability, dtype: float64"
      ]
     },
     "execution_count": 8,
     "metadata": {},
     "output_type": "execute_result"
    }
   ],
   "source": [
    "(y_train.value_counts() / y_train.size) * 100"
   ]
  },
  {
   "cell_type": "code",
   "execution_count": 9,
   "id": "fe3b5611",
   "metadata": {},
   "outputs": [
    {
     "data": {
      "text/plain": [
       "unacc    17.510854\n",
       "acc       5.571635\n",
       "good      1.013025\n",
       "vgood     0.940666\n",
       "Name: acceptability, dtype: float64"
      ]
     },
     "execution_count": 9,
     "metadata": {},
     "output_type": "execute_result"
    }
   ],
   "source": [
    "(y_test.value_counts() / y_train.size) * 100"
   ]
  },
  {
   "attachments": {},
   "cell_type": "markdown",
   "id": "5b3c77eb",
   "metadata": {},
   "source": [
    "### Creating Transformation Pipeline and Using KNN Classifier"
   ]
  },
  {
   "cell_type": "code",
   "execution_count": 10,
   "id": "dbd0933a",
   "metadata": {},
   "outputs": [
    {
     "name": "stdout",
     "output_type": "stream",
     "text": [
      "22.254335260115607\n",
      "97.40259740259741\n",
      "\n",
      "\n",
      "\n",
      "4.046242774566474\n",
      "42.857142857142854\n",
      "\n",
      "\n",
      "\n",
      "69.94219653179191\n",
      "99.58677685950413\n",
      "\n",
      "\n",
      "\n",
      "3.7572254335260116\n",
      "84.61538461538461\n",
      "\n",
      "\n",
      "\n",
      "              precision    recall  f1-score   support\n",
      "\n",
      "           0       0.88      0.97      0.93        77\n",
      "           1       0.86      0.43      0.57        14\n",
      "           2       0.99      1.00      0.99       242\n",
      "           3       1.00      0.85      0.92        13\n",
      "\n",
      "    accuracy                           0.96       346\n",
      "   macro avg       0.93      0.81      0.85       346\n",
      "weighted avg       0.96      0.96      0.96       346\n",
      "\n"
     ]
    }
   ],
   "source": [
    "ord_enc = OrdinalEncoder()\n",
    "scaler = StandardScaler()\n",
    "label_enc = LabelEncoder()\n",
    "\n",
    "ord_enc.fit(X_train)\n",
    "\n",
    "X_train = ord_enc.transform(X_train)\n",
    "X_test = ord_enc.transform(X_test)\n",
    "\n",
    "scaler.fit(X_train)\n",
    "\n",
    "X_train = scaler.transform(X_train)\n",
    "X_test = scaler.transform(X_test)\n",
    "\n",
    "label_enc.fit(y_train)\n",
    "\n",
    "y_train = label_enc.transform(y_train)\n",
    "y_test = label_enc.transform(y_test)\n",
    "\n",
    "clf = KNeighborsClassifier(n_neighbors=5)\n",
    "clf.fit(X_train, y_train)\n",
    "# print(clf.classes_)\n",
    "\n",
    "for i in range(0, 4):\n",
    "    y_pred = clf.predict(X_test[y_test == i])\n",
    "    print(X_test[y_test == i].shape[0] / y_test.size * 100)\n",
    "    print(accuracy_score(y_test[y_test == i], y_pred) * 100)\n",
    "    print(\"\\n\\n\")\n",
    "    \n",
    "y_pred = clf.predict(X_test)\n",
    "print(classification_report(y_test, y_pred))"
   ]
  },
  {
   "attachments": {},
   "cell_type": "markdown",
   "id": "ce0cd443",
   "metadata": {},
   "source": [
    "### Using Decision Tree Classifier"
   ]
  },
  {
   "cell_type": "code",
   "execution_count": 11,
   "id": "e6004802",
   "metadata": {},
   "outputs": [
    {
     "data": {
      "text/html": [
       "<div>\n",
       "<style scoped>\n",
       "    .dataframe tbody tr th:only-of-type {\n",
       "        vertical-align: middle;\n",
       "    }\n",
       "\n",
       "    .dataframe tbody tr th {\n",
       "        vertical-align: top;\n",
       "    }\n",
       "\n",
       "    .dataframe thead th {\n",
       "        text-align: right;\n",
       "    }\n",
       "</style>\n",
       "<table border=\"1\" class=\"dataframe\">\n",
       "  <thead>\n",
       "    <tr style=\"text-align: right;\">\n",
       "      <th></th>\n",
       "      <th>buying_price</th>\n",
       "      <th>maintenance_cost</th>\n",
       "      <th>num_doors</th>\n",
       "      <th>capacity</th>\n",
       "      <th>lug_boot</th>\n",
       "      <th>safety</th>\n",
       "      <th>acceptability</th>\n",
       "    </tr>\n",
       "  </thead>\n",
       "  <tbody>\n",
       "    <tr>\n",
       "      <th>0</th>\n",
       "      <td>vhigh</td>\n",
       "      <td>vhigh</td>\n",
       "      <td>2</td>\n",
       "      <td>2</td>\n",
       "      <td>small</td>\n",
       "      <td>low</td>\n",
       "      <td>unacc</td>\n",
       "    </tr>\n",
       "    <tr>\n",
       "      <th>1</th>\n",
       "      <td>vhigh</td>\n",
       "      <td>vhigh</td>\n",
       "      <td>2</td>\n",
       "      <td>2</td>\n",
       "      <td>small</td>\n",
       "      <td>med</td>\n",
       "      <td>unacc</td>\n",
       "    </tr>\n",
       "    <tr>\n",
       "      <th>2</th>\n",
       "      <td>vhigh</td>\n",
       "      <td>vhigh</td>\n",
       "      <td>2</td>\n",
       "      <td>2</td>\n",
       "      <td>small</td>\n",
       "      <td>high</td>\n",
       "      <td>unacc</td>\n",
       "    </tr>\n",
       "    <tr>\n",
       "      <th>3</th>\n",
       "      <td>vhigh</td>\n",
       "      <td>vhigh</td>\n",
       "      <td>2</td>\n",
       "      <td>2</td>\n",
       "      <td>med</td>\n",
       "      <td>low</td>\n",
       "      <td>unacc</td>\n",
       "    </tr>\n",
       "    <tr>\n",
       "      <th>4</th>\n",
       "      <td>vhigh</td>\n",
       "      <td>vhigh</td>\n",
       "      <td>2</td>\n",
       "      <td>2</td>\n",
       "      <td>med</td>\n",
       "      <td>med</td>\n",
       "      <td>unacc</td>\n",
       "    </tr>\n",
       "  </tbody>\n",
       "</table>\n",
       "</div>"
      ],
      "text/plain": [
       "  buying_price maintenance_cost num_doors capacity lug_boot safety  \\\n",
       "0        vhigh            vhigh         2        2    small    low   \n",
       "1        vhigh            vhigh         2        2    small    med   \n",
       "2        vhigh            vhigh         2        2    small   high   \n",
       "3        vhigh            vhigh         2        2      med    low   \n",
       "4        vhigh            vhigh         2        2      med    med   \n",
       "\n",
       "  acceptability  \n",
       "0         unacc  \n",
       "1         unacc  \n",
       "2         unacc  \n",
       "3         unacc  \n",
       "4         unacc  "
      ]
     },
     "execution_count": 11,
     "metadata": {},
     "output_type": "execute_result"
    }
   ],
   "source": [
    "names = ['buying_price', 'maintenance_cost', 'num_doors', 'capacity', 'lug_boot', 'safety', 'acceptability']\n",
    "data = pd.read_csv('car.data', names=names)\n",
    "data.head()"
   ]
  },
  {
   "cell_type": "code",
   "execution_count": 12,
   "id": "c8855a78",
   "metadata": {},
   "outputs": [],
   "source": [
    "data_train, data_test = train_test_split(data, test_size=0.2, stratify=data['acceptability'], random_state=42)"
   ]
  },
  {
   "cell_type": "code",
   "execution_count": 13,
   "id": "027ff399",
   "metadata": {},
   "outputs": [
    {
     "data": {
      "text/html": [
       "<div>\n",
       "<style scoped>\n",
       "    .dataframe tbody tr th:only-of-type {\n",
       "        vertical-align: middle;\n",
       "    }\n",
       "\n",
       "    .dataframe tbody tr th {\n",
       "        vertical-align: top;\n",
       "    }\n",
       "\n",
       "    .dataframe thead th {\n",
       "        text-align: right;\n",
       "    }\n",
       "</style>\n",
       "<table border=\"1\" class=\"dataframe\">\n",
       "  <thead>\n",
       "    <tr style=\"text-align: right;\">\n",
       "      <th></th>\n",
       "      <th>buying_price</th>\n",
       "      <th>maintenance_cost</th>\n",
       "      <th>num_doors</th>\n",
       "      <th>capacity</th>\n",
       "      <th>lug_boot</th>\n",
       "      <th>safety</th>\n",
       "    </tr>\n",
       "  </thead>\n",
       "  <tbody>\n",
       "    <tr>\n",
       "      <th>1120</th>\n",
       "      <td>med</td>\n",
       "      <td>med</td>\n",
       "      <td>3</td>\n",
       "      <td>4</td>\n",
       "      <td>med</td>\n",
       "      <td>med</td>\n",
       "    </tr>\n",
       "    <tr>\n",
       "      <th>1000</th>\n",
       "      <td>med</td>\n",
       "      <td>high</td>\n",
       "      <td>3</td>\n",
       "      <td>2</td>\n",
       "      <td>small</td>\n",
       "      <td>med</td>\n",
       "    </tr>\n",
       "    <tr>\n",
       "      <th>1504</th>\n",
       "      <td>low</td>\n",
       "      <td>high</td>\n",
       "      <td>5more</td>\n",
       "      <td>more</td>\n",
       "      <td>small</td>\n",
       "      <td>med</td>\n",
       "    </tr>\n",
       "    <tr>\n",
       "      <th>1202</th>\n",
       "      <td>med</td>\n",
       "      <td>low</td>\n",
       "      <td>2</td>\n",
       "      <td>4</td>\n",
       "      <td>med</td>\n",
       "      <td>high</td>\n",
       "    </tr>\n",
       "    <tr>\n",
       "      <th>353</th>\n",
       "      <td>vhigh</td>\n",
       "      <td>low</td>\n",
       "      <td>3</td>\n",
       "      <td>2</td>\n",
       "      <td>small</td>\n",
       "      <td>high</td>\n",
       "    </tr>\n",
       "  </tbody>\n",
       "</table>\n",
       "</div>"
      ],
      "text/plain": [
       "     buying_price maintenance_cost num_doors capacity lug_boot safety\n",
       "1120          med              med         3        4      med    med\n",
       "1000          med             high         3        2    small    med\n",
       "1504          low             high     5more     more    small    med\n",
       "1202          med              low         2        4      med   high\n",
       "353         vhigh              low         3        2    small   high"
      ]
     },
     "execution_count": 13,
     "metadata": {},
     "output_type": "execute_result"
    }
   ],
   "source": [
    "X_train = data_train.iloc[:, :-1]\n",
    "X_test = data_test.iloc[:, :-1]\n",
    "\n",
    "y_train = data_train.iloc[:, -1]\n",
    "y_test = data_test.iloc[:, -1]\n",
    "\n",
    "X_train.head()"
   ]
  },
  {
   "cell_type": "code",
   "execution_count": 14,
   "id": "fe6a7b8e",
   "metadata": {},
   "outputs": [],
   "source": [
    "price_cats = ['low', 'med', 'high', 'vhigh']\n",
    "maint_cats = ['low', 'med', 'high', 'vhigh']\n",
    "doors_cats = ['2', '3', '4', '5more']\n",
    "capacity_cats = ['2', '4', 'more']\n",
    "lug_cats = ['small', 'med', 'big']\n",
    "safety_cats = ['low', 'med', 'high']\n",
    "acceptability_cats = ['unacc', 'acc', 'good', 'v-good']\n",
    "\n",
    "ord_enc = OrdinalEncoder(categories=[price_cats, maint_cats, doors_cats, capacity_cats, lug_cats, safety_cats])\n",
    "label_enc = LabelEncoder()\n",
    "scaler = StandardScaler()\n",
    "\n",
    "ord_enc.fit(X_train)\n",
    "label_enc.fit(y_train)\n",
    "\n",
    "X_train = ord_enc.transform(X_train)\n",
    "X_test = ord_enc.transform(X_test)\n",
    "\n",
    "scaler.fit(X_train)\n",
    "X_train = scaler.transform(X_train)\n",
    "X_test = scaler.transform(X_test)\n",
    "\n",
    "y_train = label_enc.transform(y_train)\n",
    "y_test = label_enc.transform(y_test)"
   ]
  },
  {
   "attachments": {},
   "cell_type": "markdown",
   "id": "51e04699",
   "metadata": {},
   "source": [
    "### Comparing KNN and Decision Tree Classifiers"
   ]
  },
  {
   "cell_type": "code",
   "execution_count": 15,
   "id": "96ae1949",
   "metadata": {},
   "outputs": [
    {
     "name": "stdout",
     "output_type": "stream",
     "text": [
      "              precision    recall  f1-score   support\n",
      "\n",
      "           0       0.96      0.99      0.97        77\n",
      "           1       0.92      0.86      0.89        14\n",
      "           2       1.00      1.00      1.00       242\n",
      "           3       1.00      1.00      1.00        13\n",
      "\n",
      "    accuracy                           0.99       346\n",
      "   macro avg       0.97      0.96      0.97       346\n",
      "weighted avg       0.99      0.99      0.99       346\n",
      "\n",
      "              precision    recall  f1-score   support\n",
      "\n",
      "           0       0.89      0.95      0.92        77\n",
      "           1       0.89      0.57      0.70        14\n",
      "           2       0.98      0.99      0.99       242\n",
      "           3       1.00      0.77      0.87        13\n",
      "\n",
      "    accuracy                           0.96       346\n",
      "   macro avg       0.94      0.82      0.87       346\n",
      "weighted avg       0.96      0.96      0.95       346\n",
      "\n"
     ]
    }
   ],
   "source": [
    "tree = DecisionTreeClassifier(max_leaf_nodes=100, class_weight='balanced')\n",
    "clf = KNeighborsClassifier(n_neighbors=5)\n",
    "tree.fit(X_train, y_train)\n",
    "clf.fit(X_train, y_train)\n",
    "y_pred = tree.predict(X_test)\n",
    "print(classification_report(y_test, y_pred))\n",
    "y_pred = clf.predict(X_test)\n",
    "print(classification_report(y_test, y_pred))"
   ]
  },
  {
   "attachments": {},
   "cell_type": "markdown",
   "id": "333f79c3",
   "metadata": {},
   "source": [
    "### Optimizing Decision Tree Classifier"
   ]
  },
  {
   "cell_type": "code",
   "execution_count": 16,
   "id": "487d2c51",
   "metadata": {},
   "outputs": [],
   "source": [
    "def output_tree_accuracy(max_leaf_nodes, X_train, X_test, y_train, y_test):\n",
    "    tree = DecisionTreeClassifier(max_leaf_nodes=max_leaf_nodes, class_weight='balanced')\n",
    "    \n",
    "    tree.fit(X_train, y_train)\n",
    "    \n",
    "    y_pred_train = tree.predict(X_train)\n",
    "    y_pred_test = tree.predict(X_test)\n",
    "    \n",
    "    return accuracy_score(y_train, y_pred_train), accuracy_score(y_test, y_pred_test)"
   ]
  },
  {
   "cell_type": "code",
   "execution_count": 17,
   "id": "31ec791c",
   "metadata": {},
   "outputs": [
    {
     "data": {
      "text/plain": [
       "[<matplotlib.lines.Line2D at 0x7f7bb6923490>]"
      ]
     },
     "execution_count": 17,
     "metadata": {},
     "output_type": "execute_result"
    },
    {
     "data": {
      "image/png": "[encoded data removed]",
      "text/plain": [
       "<Figure size 640x480 with 1 Axes>"
      ]
     },
     "metadata": {},
     "output_type": "display_data"
    }
   ],
   "source": [
    "num_nodes = [i for i in range(2, 150)]\n",
    "y_train_scores = []\n",
    "y_test_scores = []\n",
    "\n",
    "for i in num_nodes:\n",
    "    y_train_score, y_test_score = output_tree_accuracy(i, X_train, X_test, y_train, y_test)\n",
    "    y_train_scores.append(y_train_score)\n",
    "    y_test_scores.append(y_test_score)\n",
    "\n",
    "plt.plot(num_nodes, y_test_scores)"
   ]
  }
 ],
 "metadata": {
  "kernelspec": {
   "display_name": "droneEnv",
   "language": "python",
   "name": "python3"
  },
  "language_info": {
   "codemirror_mode": {
    "name": "ipython",
    "version": 3
   },
   "file_extension": ".py",
   "mimetype": "text/x-python",
   "name": "python",
   "nbconvert_exporter": "python",
   "pygments_lexer": "ipython3",
   "version": "3.8.13"
  },
  "vscode": {
   "interpreter": {
    "hash": "5666364bc3737664e4c6ec1f7e1faf0a7e773df3199151184cb9d2cd4bf91c29"
   }
  }
 },
 "nbformat": 4,
 "nbformat_minor": 5
}
